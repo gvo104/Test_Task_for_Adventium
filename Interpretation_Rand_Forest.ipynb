{
 "cells": [
  {
   "cell_type": "code",
   "execution_count": 46,
   "id": "e16ec1fb",
   "metadata": {},
   "outputs": [],
   "source": [
    "import vk_api\n",
    "import time\n",
    "import pandas as pd\n",
    "from datetime import datetime\n",
    "from config import token\n",
    "\n",
    "session = vk_api.VkApi(token)"
   ]
  },
  {
   "cell_type": "markdown",
   "id": "ec98f776",
   "metadata": {},
   "source": [
    "## Получаем даннные"
   ]
  },
  {
   "cell_type": "code",
   "execution_count": 47,
   "id": "51b5ce67",
   "metadata": {},
   "outputs": [],
   "source": [
    "# --- Ваши данные ---\n",
    "USER_ID = 'erglerik'    # screen_name или owner_id (для группы — со знаком минус)\n",
    "MAX_POSTS = 300\n",
    "BATCH_SIZE = 50\n",
    "\n",
    "# --- Инициализация ---\n",
    "vk_session = vk_api.VkApi(token=token)\n",
    "vk = vk_session.get_api()\n",
    "\n",
    "# --- Сбор постов ---\n",
    "all_posts = []\n",
    "offset = 0"
   ]
  },
  {
   "cell_type": "markdown",
   "id": "ce45aebd",
   "metadata": {},
   "source": [
    "## Извлекаем данные в датафрейм"
   ]
  },
  {
   "cell_type": "code",
   "execution_count": 48,
   "id": "357b0114",
   "metadata": {},
   "outputs": [
    {
     "data": {
      "application/vnd.microsoft.datawrangler.viewer.v0+json": {
       "columns": [
        {
         "name": "index",
         "rawType": "int64",
         "type": "integer"
        },
        {
         "name": "Номер поста",
         "rawType": "int64",
         "type": "integer"
        },
        {
         "name": "Дата",
         "rawType": "object",
         "type": "unknown"
        },
        {
         "name": "Время",
         "rawType": "object",
         "type": "unknown"
        },
        {
         "name": "Лайки",
         "rawType": "int64",
         "type": "integer"
        }
       ],
       "ref": "a2c2f573-6862-4ade-9407-87a6c0d132f2",
       "rows": [
        [
         "0",
         "1",
         "2024-07-02",
         "02:18:12",
         "117"
        ],
        [
         "1",
         "2",
         "2025-07-18",
         "02:14:18",
         "79"
        ],
        [
         "2",
         "3",
         "2025-06-27",
         "19:15:28",
         "57"
        ],
        [
         "3",
         "4",
         "2025-06-27",
         "19:14:45",
         "48"
        ],
        [
         "4",
         "5",
         "2025-04-26",
         "03:01:58",
         "106"
        ],
        [
         "5",
         "6",
         "2024-11-01",
         "23:24:29",
         "83"
        ],
        [
         "6",
         "7",
         "2024-10-19",
         "02:25:31",
         "60"
        ],
        [
         "7",
         "8",
         "2024-10-19",
         "02:24:28",
         "73"
        ],
        [
         "8",
         "9",
         "2024-10-19",
         "02:23:50",
         "105"
        ],
        [
         "9",
         "10",
         "2024-09-11",
         "03:31:46",
         "111"
        ]
       ],
       "shape": {
        "columns": 4,
        "rows": 10
       }
      },
      "text/html": [
       "<div>\n",
       "<style scoped>\n",
       "    .dataframe tbody tr th:only-of-type {\n",
       "        vertical-align: middle;\n",
       "    }\n",
       "\n",
       "    .dataframe tbody tr th {\n",
       "        vertical-align: top;\n",
       "    }\n",
       "\n",
       "    .dataframe thead th {\n",
       "        text-align: right;\n",
       "    }\n",
       "</style>\n",
       "<table border=\"1\" class=\"dataframe\">\n",
       "  <thead>\n",
       "    <tr style=\"text-align: right;\">\n",
       "      <th></th>\n",
       "      <th>Номер поста</th>\n",
       "      <th>Дата</th>\n",
       "      <th>Время</th>\n",
       "      <th>Лайки</th>\n",
       "    </tr>\n",
       "  </thead>\n",
       "  <tbody>\n",
       "    <tr>\n",
       "      <th>0</th>\n",
       "      <td>1</td>\n",
       "      <td>2024-07-02</td>\n",
       "      <td>02:18:12</td>\n",
       "      <td>117</td>\n",
       "    </tr>\n",
       "    <tr>\n",
       "      <th>1</th>\n",
       "      <td>2</td>\n",
       "      <td>2025-07-18</td>\n",
       "      <td>02:14:18</td>\n",
       "      <td>79</td>\n",
       "    </tr>\n",
       "    <tr>\n",
       "      <th>2</th>\n",
       "      <td>3</td>\n",
       "      <td>2025-06-27</td>\n",
       "      <td>19:15:28</td>\n",
       "      <td>57</td>\n",
       "    </tr>\n",
       "    <tr>\n",
       "      <th>3</th>\n",
       "      <td>4</td>\n",
       "      <td>2025-06-27</td>\n",
       "      <td>19:14:45</td>\n",
       "      <td>48</td>\n",
       "    </tr>\n",
       "    <tr>\n",
       "      <th>4</th>\n",
       "      <td>5</td>\n",
       "      <td>2025-04-26</td>\n",
       "      <td>03:01:58</td>\n",
       "      <td>106</td>\n",
       "    </tr>\n",
       "    <tr>\n",
       "      <th>5</th>\n",
       "      <td>6</td>\n",
       "      <td>2024-11-01</td>\n",
       "      <td>23:24:29</td>\n",
       "      <td>83</td>\n",
       "    </tr>\n",
       "    <tr>\n",
       "      <th>6</th>\n",
       "      <td>7</td>\n",
       "      <td>2024-10-19</td>\n",
       "      <td>02:25:31</td>\n",
       "      <td>60</td>\n",
       "    </tr>\n",
       "    <tr>\n",
       "      <th>7</th>\n",
       "      <td>8</td>\n",
       "      <td>2024-10-19</td>\n",
       "      <td>02:24:28</td>\n",
       "      <td>73</td>\n",
       "    </tr>\n",
       "    <tr>\n",
       "      <th>8</th>\n",
       "      <td>9</td>\n",
       "      <td>2024-10-19</td>\n",
       "      <td>02:23:50</td>\n",
       "      <td>105</td>\n",
       "    </tr>\n",
       "    <tr>\n",
       "      <th>9</th>\n",
       "      <td>10</td>\n",
       "      <td>2024-09-11</td>\n",
       "      <td>03:31:46</td>\n",
       "      <td>111</td>\n",
       "    </tr>\n",
       "  </tbody>\n",
       "</table>\n",
       "</div>"
      ],
      "text/plain": [
       "   Номер поста        Дата     Время  Лайки\n",
       "0            1  2024-07-02  02:18:12    117\n",
       "1            2  2025-07-18  02:14:18     79\n",
       "2            3  2025-06-27  19:15:28     57\n",
       "3            4  2025-06-27  19:14:45     48\n",
       "4            5  2025-04-26  03:01:58    106\n",
       "5            6  2024-11-01  23:24:29     83\n",
       "6            7  2024-10-19  02:25:31     60\n",
       "7            8  2024-10-19  02:24:28     73\n",
       "8            9  2024-10-19  02:23:50    105\n",
       "9           10  2024-09-11  03:31:46    111"
      ]
     },
     "execution_count": 48,
     "metadata": {},
     "output_type": "execute_result"
    }
   ],
   "source": [
    "while len(all_posts) < MAX_POSTS:\n",
    "    count = min(BATCH_SIZE, MAX_POSTS - len(all_posts))\n",
    "\n",
    "    response = vk.wall.get(\n",
    "        owner_id=USER_ID,\n",
    "        count=count,\n",
    "        offset=offset,\n",
    "        extended=0\n",
    "    )\n",
    "\n",
    "    items = response.get('items', [])\n",
    "    if not items:\n",
    "        break\n",
    "\n",
    "    all_posts.extend(items)\n",
    "    offset += count\n",
    "\n",
    "    time.sleep(0.4)  # Не перегружаем API\n",
    "\n",
    "# --- Обработка данных ---\n",
    "posts_data = []\n",
    "\n",
    "for i, post in enumerate(all_posts, 1):\n",
    "    post_datetime = datetime.fromtimestamp(post['date'])\n",
    "    likes = post.get('likes', {}).get('count', 0)\n",
    "\n",
    "    posts_data.append({\n",
    "        'Номер поста': i,\n",
    "        'Дата': post_datetime.date(),\n",
    "        'Время': post_datetime.time(),\n",
    "        'Лайки': likes,\n",
    "    })\n",
    "\n",
    "# Создаем DataFrame\n",
    "df = pd.DataFrame(posts_data)\n",
    "\n",
    "df.head(10)"
   ]
  },
  {
   "cell_type": "markdown",
   "id": "26e41690",
   "metadata": {},
   "source": [
    "## Добавляем колонку для дней недели"
   ]
  },
  {
   "cell_type": "code",
   "execution_count": 49,
   "id": "e8e51ee3",
   "metadata": {},
   "outputs": [
    {
     "data": {
      "application/vnd.microsoft.datawrangler.viewer.v0+json": {
       "columns": [
        {
         "name": "index",
         "rawType": "int64",
         "type": "integer"
        },
        {
         "name": "Номер поста",
         "rawType": "int64",
         "type": "integer"
        },
        {
         "name": "Дата",
         "rawType": "object",
         "type": "unknown"
        },
        {
         "name": "Время",
         "rawType": "object",
         "type": "unknown"
        },
        {
         "name": "Лайки",
         "rawType": "int64",
         "type": "integer"
        },
        {
         "name": "День недели",
         "rawType": "object",
         "type": "string"
        }
       ],
       "ref": "4b15ec28-26c1-4932-ba45-46843c8ccdf3",
       "rows": [
        [
         "0",
         "1",
         "2024-07-02",
         "02:18:12",
         "117",
         "Вторник"
        ],
        [
         "1",
         "2",
         "2025-07-18",
         "02:14:18",
         "79",
         "Пятница"
        ],
        [
         "2",
         "3",
         "2025-06-27",
         "19:15:28",
         "57",
         "Пятница"
        ],
        [
         "3",
         "4",
         "2025-06-27",
         "19:14:45",
         "48",
         "Пятница"
        ],
        [
         "4",
         "5",
         "2025-04-26",
         "03:01:58",
         "106",
         "Суббота"
        ]
       ],
       "shape": {
        "columns": 5,
        "rows": 5
       }
      },
      "text/html": [
       "<div>\n",
       "<style scoped>\n",
       "    .dataframe tbody tr th:only-of-type {\n",
       "        vertical-align: middle;\n",
       "    }\n",
       "\n",
       "    .dataframe tbody tr th {\n",
       "        vertical-align: top;\n",
       "    }\n",
       "\n",
       "    .dataframe thead th {\n",
       "        text-align: right;\n",
       "    }\n",
       "</style>\n",
       "<table border=\"1\" class=\"dataframe\">\n",
       "  <thead>\n",
       "    <tr style=\"text-align: right;\">\n",
       "      <th></th>\n",
       "      <th>Номер поста</th>\n",
       "      <th>Дата</th>\n",
       "      <th>Время</th>\n",
       "      <th>Лайки</th>\n",
       "      <th>День недели</th>\n",
       "    </tr>\n",
       "  </thead>\n",
       "  <tbody>\n",
       "    <tr>\n",
       "      <th>0</th>\n",
       "      <td>1</td>\n",
       "      <td>2024-07-02</td>\n",
       "      <td>02:18:12</td>\n",
       "      <td>117</td>\n",
       "      <td>Вторник</td>\n",
       "    </tr>\n",
       "    <tr>\n",
       "      <th>1</th>\n",
       "      <td>2</td>\n",
       "      <td>2025-07-18</td>\n",
       "      <td>02:14:18</td>\n",
       "      <td>79</td>\n",
       "      <td>Пятница</td>\n",
       "    </tr>\n",
       "    <tr>\n",
       "      <th>2</th>\n",
       "      <td>3</td>\n",
       "      <td>2025-06-27</td>\n",
       "      <td>19:15:28</td>\n",
       "      <td>57</td>\n",
       "      <td>Пятница</td>\n",
       "    </tr>\n",
       "    <tr>\n",
       "      <th>3</th>\n",
       "      <td>4</td>\n",
       "      <td>2025-06-27</td>\n",
       "      <td>19:14:45</td>\n",
       "      <td>48</td>\n",
       "      <td>Пятница</td>\n",
       "    </tr>\n",
       "    <tr>\n",
       "      <th>4</th>\n",
       "      <td>5</td>\n",
       "      <td>2025-04-26</td>\n",
       "      <td>03:01:58</td>\n",
       "      <td>106</td>\n",
       "      <td>Суббота</td>\n",
       "    </tr>\n",
       "  </tbody>\n",
       "</table>\n",
       "</div>"
      ],
      "text/plain": [
       "   Номер поста        Дата     Время  Лайки День недели\n",
       "0            1  2024-07-02  02:18:12    117     Вторник\n",
       "1            2  2025-07-18  02:14:18     79     Пятница\n",
       "2            3  2025-06-27  19:15:28     57     Пятница\n",
       "3            4  2025-06-27  19:14:45     48     Пятница\n",
       "4            5  2025-04-26  03:01:58    106     Суббота"
      ]
     },
     "execution_count": 49,
     "metadata": {},
     "output_type": "execute_result"
    }
   ],
   "source": [
    "days_ru = ['Понедельник', 'Вторник', 'Среда', 'Четверг', 'Пятница', 'Суббота', 'Воскресенье']\n",
    "df['День недели'] = pd.to_datetime(df['Дата']).dt.dayofweek.map(lambda x: days_ru[x])\n",
    "\n",
    "df.head()"
   ]
  },
  {
   "cell_type": "markdown",
   "id": "8f13f50c",
   "metadata": {},
   "source": [
    "## Выкидываем первый пост тк он закрепленный (выброс)"
   ]
  },
  {
   "cell_type": "code",
   "execution_count": 50,
   "id": "7b2b711d",
   "metadata": {},
   "outputs": [
    {
     "data": {
      "application/vnd.microsoft.datawrangler.viewer.v0+json": {
       "columns": [
        {
         "name": "index",
         "rawType": "int64",
         "type": "integer"
        },
        {
         "name": "Номер поста",
         "rawType": "int64",
         "type": "integer"
        },
        {
         "name": "Дата",
         "rawType": "object",
         "type": "unknown"
        },
        {
         "name": "Время",
         "rawType": "object",
         "type": "unknown"
        },
        {
         "name": "Лайки",
         "rawType": "int64",
         "type": "integer"
        },
        {
         "name": "День недели",
         "rawType": "object",
         "type": "string"
        }
       ],
       "ref": "e1e599eb-a61d-4fc0-9d9e-2567bd498a54",
       "rows": [
        [
         "1",
         "2",
         "2025-07-18",
         "02:14:18",
         "79",
         "Пятница"
        ],
        [
         "2",
         "3",
         "2025-06-27",
         "19:15:28",
         "57",
         "Пятница"
        ],
        [
         "3",
         "4",
         "2025-06-27",
         "19:14:45",
         "48",
         "Пятница"
        ],
        [
         "4",
         "5",
         "2025-04-26",
         "03:01:58",
         "106",
         "Суббота"
        ],
        [
         "5",
         "6",
         "2024-11-01",
         "23:24:29",
         "83",
         "Пятница"
        ],
        [
         "6",
         "7",
         "2024-10-19",
         "02:25:31",
         "60",
         "Суббота"
        ],
        [
         "7",
         "8",
         "2024-10-19",
         "02:24:28",
         "73",
         "Суббота"
        ],
        [
         "8",
         "9",
         "2024-10-19",
         "02:23:50",
         "105",
         "Суббота"
        ],
        [
         "9",
         "10",
         "2024-09-11",
         "03:31:46",
         "111",
         "Среда"
        ],
        [
         "10",
         "11",
         "2024-08-25",
         "01:06:09",
         "61",
         "Воскресенье"
        ],
        [
         "11",
         "12",
         "2024-08-25",
         "01:05:23",
         "79",
         "Воскресенье"
        ],
        [
         "12",
         "13",
         "2024-08-17",
         "01:22:54",
         "98",
         "Суббота"
        ],
        [
         "13",
         "14",
         "2024-08-02",
         "03:20:02",
         "87",
         "Пятница"
        ],
        [
         "14",
         "15",
         "2024-08-02",
         "03:19:02",
         "110",
         "Пятница"
        ],
        [
         "15",
         "16",
         "2024-08-02",
         "03:17:37",
         "88",
         "Пятница"
        ],
        [
         "16",
         "17",
         "2024-07-02",
         "02:17:33",
         "73",
         "Вторник"
        ],
        [
         "17",
         "18",
         "2024-06-12",
         "03:00:42",
         "79",
         "Среда"
        ],
        [
         "18",
         "19",
         "2024-05-05",
         "02:16:42",
         "90",
         "Воскресенье"
        ],
        [
         "19",
         "20",
         "2024-03-31",
         "02:41:20",
         "67",
         "Воскресенье"
        ],
        [
         "20",
         "21",
         "2024-03-28",
         "03:07:20",
         "82",
         "Четверг"
        ],
        [
         "21",
         "22",
         "2024-02-09",
         "18:56:54",
         "103",
         "Пятница"
        ],
        [
         "22",
         "23",
         "2024-01-27",
         "23:13:57",
         "64",
         "Суббота"
        ],
        [
         "23",
         "24",
         "2024-01-27",
         "23:09:32",
         "34",
         "Суббота"
        ],
        [
         "24",
         "25",
         "2024-01-05",
         "02:42:26",
         "59",
         "Пятница"
        ],
        [
         "25",
         "26",
         "2023-12-31",
         "04:10:36",
         "65",
         "Воскресенье"
        ]
       ],
       "shape": {
        "columns": 5,
        "rows": 25
       }
      },
      "text/html": [
       "<div>\n",
       "<style scoped>\n",
       "    .dataframe tbody tr th:only-of-type {\n",
       "        vertical-align: middle;\n",
       "    }\n",
       "\n",
       "    .dataframe tbody tr th {\n",
       "        vertical-align: top;\n",
       "    }\n",
       "\n",
       "    .dataframe thead th {\n",
       "        text-align: right;\n",
       "    }\n",
       "</style>\n",
       "<table border=\"1\" class=\"dataframe\">\n",
       "  <thead>\n",
       "    <tr style=\"text-align: right;\">\n",
       "      <th></th>\n",
       "      <th>Номер поста</th>\n",
       "      <th>Дата</th>\n",
       "      <th>Время</th>\n",
       "      <th>Лайки</th>\n",
       "      <th>День недели</th>\n",
       "    </tr>\n",
       "  </thead>\n",
       "  <tbody>\n",
       "    <tr>\n",
       "      <th>1</th>\n",
       "      <td>2</td>\n",
       "      <td>2025-07-18</td>\n",
       "      <td>02:14:18</td>\n",
       "      <td>79</td>\n",
       "      <td>Пятница</td>\n",
       "    </tr>\n",
       "    <tr>\n",
       "      <th>2</th>\n",
       "      <td>3</td>\n",
       "      <td>2025-06-27</td>\n",
       "      <td>19:15:28</td>\n",
       "      <td>57</td>\n",
       "      <td>Пятница</td>\n",
       "    </tr>\n",
       "    <tr>\n",
       "      <th>3</th>\n",
       "      <td>4</td>\n",
       "      <td>2025-06-27</td>\n",
       "      <td>19:14:45</td>\n",
       "      <td>48</td>\n",
       "      <td>Пятница</td>\n",
       "    </tr>\n",
       "    <tr>\n",
       "      <th>4</th>\n",
       "      <td>5</td>\n",
       "      <td>2025-04-26</td>\n",
       "      <td>03:01:58</td>\n",
       "      <td>106</td>\n",
       "      <td>Суббота</td>\n",
       "    </tr>\n",
       "    <tr>\n",
       "      <th>5</th>\n",
       "      <td>6</td>\n",
       "      <td>2024-11-01</td>\n",
       "      <td>23:24:29</td>\n",
       "      <td>83</td>\n",
       "      <td>Пятница</td>\n",
       "    </tr>\n",
       "    <tr>\n",
       "      <th>6</th>\n",
       "      <td>7</td>\n",
       "      <td>2024-10-19</td>\n",
       "      <td>02:25:31</td>\n",
       "      <td>60</td>\n",
       "      <td>Суббота</td>\n",
       "    </tr>\n",
       "    <tr>\n",
       "      <th>7</th>\n",
       "      <td>8</td>\n",
       "      <td>2024-10-19</td>\n",
       "      <td>02:24:28</td>\n",
       "      <td>73</td>\n",
       "      <td>Суббота</td>\n",
       "    </tr>\n",
       "    <tr>\n",
       "      <th>8</th>\n",
       "      <td>9</td>\n",
       "      <td>2024-10-19</td>\n",
       "      <td>02:23:50</td>\n",
       "      <td>105</td>\n",
       "      <td>Суббота</td>\n",
       "    </tr>\n",
       "    <tr>\n",
       "      <th>9</th>\n",
       "      <td>10</td>\n",
       "      <td>2024-09-11</td>\n",
       "      <td>03:31:46</td>\n",
       "      <td>111</td>\n",
       "      <td>Среда</td>\n",
       "    </tr>\n",
       "    <tr>\n",
       "      <th>10</th>\n",
       "      <td>11</td>\n",
       "      <td>2024-08-25</td>\n",
       "      <td>01:06:09</td>\n",
       "      <td>61</td>\n",
       "      <td>Воскресенье</td>\n",
       "    </tr>\n",
       "    <tr>\n",
       "      <th>11</th>\n",
       "      <td>12</td>\n",
       "      <td>2024-08-25</td>\n",
       "      <td>01:05:23</td>\n",
       "      <td>79</td>\n",
       "      <td>Воскресенье</td>\n",
       "    </tr>\n",
       "    <tr>\n",
       "      <th>12</th>\n",
       "      <td>13</td>\n",
       "      <td>2024-08-17</td>\n",
       "      <td>01:22:54</td>\n",
       "      <td>98</td>\n",
       "      <td>Суббота</td>\n",
       "    </tr>\n",
       "    <tr>\n",
       "      <th>13</th>\n",
       "      <td>14</td>\n",
       "      <td>2024-08-02</td>\n",
       "      <td>03:20:02</td>\n",
       "      <td>87</td>\n",
       "      <td>Пятница</td>\n",
       "    </tr>\n",
       "    <tr>\n",
       "      <th>14</th>\n",
       "      <td>15</td>\n",
       "      <td>2024-08-02</td>\n",
       "      <td>03:19:02</td>\n",
       "      <td>110</td>\n",
       "      <td>Пятница</td>\n",
       "    </tr>\n",
       "    <tr>\n",
       "      <th>15</th>\n",
       "      <td>16</td>\n",
       "      <td>2024-08-02</td>\n",
       "      <td>03:17:37</td>\n",
       "      <td>88</td>\n",
       "      <td>Пятница</td>\n",
       "    </tr>\n",
       "    <tr>\n",
       "      <th>16</th>\n",
       "      <td>17</td>\n",
       "      <td>2024-07-02</td>\n",
       "      <td>02:17:33</td>\n",
       "      <td>73</td>\n",
       "      <td>Вторник</td>\n",
       "    </tr>\n",
       "    <tr>\n",
       "      <th>17</th>\n",
       "      <td>18</td>\n",
       "      <td>2024-06-12</td>\n",
       "      <td>03:00:42</td>\n",
       "      <td>79</td>\n",
       "      <td>Среда</td>\n",
       "    </tr>\n",
       "    <tr>\n",
       "      <th>18</th>\n",
       "      <td>19</td>\n",
       "      <td>2024-05-05</td>\n",
       "      <td>02:16:42</td>\n",
       "      <td>90</td>\n",
       "      <td>Воскресенье</td>\n",
       "    </tr>\n",
       "    <tr>\n",
       "      <th>19</th>\n",
       "      <td>20</td>\n",
       "      <td>2024-03-31</td>\n",
       "      <td>02:41:20</td>\n",
       "      <td>67</td>\n",
       "      <td>Воскресенье</td>\n",
       "    </tr>\n",
       "    <tr>\n",
       "      <th>20</th>\n",
       "      <td>21</td>\n",
       "      <td>2024-03-28</td>\n",
       "      <td>03:07:20</td>\n",
       "      <td>82</td>\n",
       "      <td>Четверг</td>\n",
       "    </tr>\n",
       "    <tr>\n",
       "      <th>21</th>\n",
       "      <td>22</td>\n",
       "      <td>2024-02-09</td>\n",
       "      <td>18:56:54</td>\n",
       "      <td>103</td>\n",
       "      <td>Пятница</td>\n",
       "    </tr>\n",
       "    <tr>\n",
       "      <th>22</th>\n",
       "      <td>23</td>\n",
       "      <td>2024-01-27</td>\n",
       "      <td>23:13:57</td>\n",
       "      <td>64</td>\n",
       "      <td>Суббота</td>\n",
       "    </tr>\n",
       "    <tr>\n",
       "      <th>23</th>\n",
       "      <td>24</td>\n",
       "      <td>2024-01-27</td>\n",
       "      <td>23:09:32</td>\n",
       "      <td>34</td>\n",
       "      <td>Суббота</td>\n",
       "    </tr>\n",
       "    <tr>\n",
       "      <th>24</th>\n",
       "      <td>25</td>\n",
       "      <td>2024-01-05</td>\n",
       "      <td>02:42:26</td>\n",
       "      <td>59</td>\n",
       "      <td>Пятница</td>\n",
       "    </tr>\n",
       "    <tr>\n",
       "      <th>25</th>\n",
       "      <td>26</td>\n",
       "      <td>2023-12-31</td>\n",
       "      <td>04:10:36</td>\n",
       "      <td>65</td>\n",
       "      <td>Воскресенье</td>\n",
       "    </tr>\n",
       "  </tbody>\n",
       "</table>\n",
       "</div>"
      ],
      "text/plain": [
       "    Номер поста        Дата     Время  Лайки  День недели\n",
       "1             2  2025-07-18  02:14:18     79      Пятница\n",
       "2             3  2025-06-27  19:15:28     57      Пятница\n",
       "3             4  2025-06-27  19:14:45     48      Пятница\n",
       "4             5  2025-04-26  03:01:58    106      Суббота\n",
       "5             6  2024-11-01  23:24:29     83      Пятница\n",
       "6             7  2024-10-19  02:25:31     60      Суббота\n",
       "7             8  2024-10-19  02:24:28     73      Суббота\n",
       "8             9  2024-10-19  02:23:50    105      Суббота\n",
       "9            10  2024-09-11  03:31:46    111        Среда\n",
       "10           11  2024-08-25  01:06:09     61  Воскресенье\n",
       "11           12  2024-08-25  01:05:23     79  Воскресенье\n",
       "12           13  2024-08-17  01:22:54     98      Суббота\n",
       "13           14  2024-08-02  03:20:02     87      Пятница\n",
       "14           15  2024-08-02  03:19:02    110      Пятница\n",
       "15           16  2024-08-02  03:17:37     88      Пятница\n",
       "16           17  2024-07-02  02:17:33     73      Вторник\n",
       "17           18  2024-06-12  03:00:42     79        Среда\n",
       "18           19  2024-05-05  02:16:42     90  Воскресенье\n",
       "19           20  2024-03-31  02:41:20     67  Воскресенье\n",
       "20           21  2024-03-28  03:07:20     82      Четверг\n",
       "21           22  2024-02-09  18:56:54    103      Пятница\n",
       "22           23  2024-01-27  23:13:57     64      Суббота\n",
       "23           24  2024-01-27  23:09:32     34      Суббота\n",
       "24           25  2024-01-05  02:42:26     59      Пятница\n",
       "25           26  2023-12-31  04:10:36     65  Воскресенье"
      ]
     },
     "execution_count": 50,
     "metadata": {},
     "output_type": "execute_result"
    }
   ],
   "source": [
    "df = df.drop(df.index[0])\n",
    "df.head(25)"
   ]
  },
  {
   "cell_type": "markdown",
   "id": "a7513ada",
   "metadata": {},
   "source": [
    "## Время с предыдущего поста"
   ]
  },
  {
   "cell_type": "code",
   "execution_count": 51,
   "id": "ad36c40f",
   "metadata": {},
   "outputs": [
    {
     "data": {
      "application/vnd.microsoft.datawrangler.viewer.v0+json": {
       "columns": [
        {
         "name": "index",
         "rawType": "object",
         "type": "string"
        },
        {
         "name": "0",
         "rawType": "object",
         "type": "unknown"
        }
       ],
       "ref": "467d9156-6222-4539-b32d-3dc21cc4514f",
       "rows": [
        [
         "Номер поста",
         "int64"
        ],
        [
         "Дата",
         "object"
        ],
        [
         "Время",
         "object"
        ],
        [
         "Лайки",
         "int64"
        ],
        [
         "День недели",
         "object"
        ],
        [
         "Минут с предыдущего",
         "float64"
        ]
       ],
       "shape": {
        "columns": 1,
        "rows": 6
       }
      },
      "text/plain": [
       "Номер поста              int64\n",
       "Дата                    object\n",
       "Время                   object\n",
       "Лайки                    int64\n",
       "День недели             object\n",
       "Минут с предыдущего    float64\n",
       "dtype: object"
      ]
     },
     "execution_count": 51,
     "metadata": {},
     "output_type": "execute_result"
    }
   ],
   "source": [
    "# Создаем полные метки времени\n",
    "df['Дата и время'] = pd.to_datetime(df['Дата'].astype(str) + ' ' + df['Время'].astype(str))\n",
    "\n",
    "# Сортируем по возрастанию даты (старые посты выше)\n",
    "df = df.sort_values('Дата и время', ascending=True)\n",
    "\n",
    "# Вычисляем разницу с предыдущим постом\n",
    "df['Разница с предыдущим'] = df['Дата и время'].diff()\n",
    "\n",
    "# Считаем общее количество минут с предыдущего поста\n",
    "df['Минут с предыдущего'] = df['Разница с предыдущим'].apply(\n",
    "    lambda x: x.total_seconds() / 60 if pd.notnull(x) else None\n",
    ").astype('float')\n",
    "\n",
    "# Удаляем временную колонку\n",
    "df = df.drop(columns=['Разница с предыдущим', 'Дата и время'])\n",
    "\n",
    "# Возвращаем исходный порядок (если нужно)\n",
    "df = df.sort_values('Номер поста')\n",
    "\n",
    "# Выводим результат\n",
    "df.head(20)\n",
    "df.dtypes"
   ]
  },
  {
   "cell_type": "markdown",
   "id": "424ded18",
   "metadata": {},
   "source": [
    "## Создаем нужные признаки, ненужные не создаем, совсем ненужные удаляем."
   ]
  },
  {
   "cell_type": "code",
   "execution_count": 52,
   "id": "104f9795",
   "metadata": {},
   "outputs": [
    {
     "data": {
      "application/vnd.microsoft.datawrangler.viewer.v0+json": {
       "columns": [
        {
         "name": "index",
         "rawType": "int64",
         "type": "integer"
        },
        {
         "name": "Номер поста",
         "rawType": "int64",
         "type": "integer"
        },
        {
         "name": "Дата",
         "rawType": "object",
         "type": "unknown"
        },
        {
         "name": "Время",
         "rawType": "object",
         "type": "unknown"
        },
        {
         "name": "Лайки",
         "rawType": "int64",
         "type": "integer"
        },
        {
         "name": "День недели",
         "rawType": "object",
         "type": "string"
        },
        {
         "name": "Минут с предыдущего",
         "rawType": "float64",
         "type": "float"
        },
        {
         "name": "Время суток",
         "rawType": "object",
         "type": "string"
        }
       ],
       "ref": "2bf02f15-b499-45c9-99de-075c8871383e",
       "rows": [
        [
         "1",
         "2",
         "2025-07-18",
         "02:14:18",
         "79",
         "Пятница",
         "29218.833333333332",
         "ночь"
        ],
        [
         "2",
         "3",
         "2025-06-27",
         "19:15:28",
         "57",
         "Пятница",
         "0.7166666666666667",
         "вечер"
        ],
        [
         "3",
         "4",
         "2025-06-27",
         "19:14:45",
         "48",
         "Пятница",
         "90252.78333333334",
         "вечер"
        ],
        [
         "4",
         "5",
         "2025-04-26",
         "03:01:58",
         "106",
         "Суббота",
         "252217.48333333334",
         "ночь"
        ],
        [
         "5",
         "6",
         "2024-11-01",
         "23:24:29",
         "83",
         "Пятница",
         "19978.966666666667",
         "вечер"
        ],
        [
         "6",
         "7",
         "2024-10-19",
         "02:25:31",
         "60",
         "Суббота",
         "1.05",
         "ночь"
        ],
        [
         "7",
         "8",
         "2024-10-19",
         "02:24:28",
         "73",
         "Суббота",
         "0.6333333333333333",
         "ночь"
        ],
        [
         "8",
         "9",
         "2024-10-19",
         "02:23:50",
         "105",
         "Суббота",
         "54652.066666666666",
         "ночь"
        ],
        [
         "9",
         "10",
         "2024-09-11",
         "03:31:46",
         "111",
         "Среда",
         "24625.616666666665",
         "ночь"
        ],
        [
         "10",
         "11",
         "2024-08-25",
         "01:06:09",
         "61",
         "Воскресенье",
         "0.7666666666666667",
         "ночь"
        ]
       ],
       "shape": {
        "columns": 7,
        "rows": 10
       }
      },
      "text/html": [
       "<div>\n",
       "<style scoped>\n",
       "    .dataframe tbody tr th:only-of-type {\n",
       "        vertical-align: middle;\n",
       "    }\n",
       "\n",
       "    .dataframe tbody tr th {\n",
       "        vertical-align: top;\n",
       "    }\n",
       "\n",
       "    .dataframe thead th {\n",
       "        text-align: right;\n",
       "    }\n",
       "</style>\n",
       "<table border=\"1\" class=\"dataframe\">\n",
       "  <thead>\n",
       "    <tr style=\"text-align: right;\">\n",
       "      <th></th>\n",
       "      <th>Номер поста</th>\n",
       "      <th>Дата</th>\n",
       "      <th>Время</th>\n",
       "      <th>Лайки</th>\n",
       "      <th>День недели</th>\n",
       "      <th>Минут с предыдущего</th>\n",
       "      <th>Время суток</th>\n",
       "    </tr>\n",
       "  </thead>\n",
       "  <tbody>\n",
       "    <tr>\n",
       "      <th>1</th>\n",
       "      <td>2</td>\n",
       "      <td>2025-07-18</td>\n",
       "      <td>02:14:18</td>\n",
       "      <td>79</td>\n",
       "      <td>Пятница</td>\n",
       "      <td>29218.833333</td>\n",
       "      <td>ночь</td>\n",
       "    </tr>\n",
       "    <tr>\n",
       "      <th>2</th>\n",
       "      <td>3</td>\n",
       "      <td>2025-06-27</td>\n",
       "      <td>19:15:28</td>\n",
       "      <td>57</td>\n",
       "      <td>Пятница</td>\n",
       "      <td>0.716667</td>\n",
       "      <td>вечер</td>\n",
       "    </tr>\n",
       "    <tr>\n",
       "      <th>3</th>\n",
       "      <td>4</td>\n",
       "      <td>2025-06-27</td>\n",
       "      <td>19:14:45</td>\n",
       "      <td>48</td>\n",
       "      <td>Пятница</td>\n",
       "      <td>90252.783333</td>\n",
       "      <td>вечер</td>\n",
       "    </tr>\n",
       "    <tr>\n",
       "      <th>4</th>\n",
       "      <td>5</td>\n",
       "      <td>2025-04-26</td>\n",
       "      <td>03:01:58</td>\n",
       "      <td>106</td>\n",
       "      <td>Суббота</td>\n",
       "      <td>252217.483333</td>\n",
       "      <td>ночь</td>\n",
       "    </tr>\n",
       "    <tr>\n",
       "      <th>5</th>\n",
       "      <td>6</td>\n",
       "      <td>2024-11-01</td>\n",
       "      <td>23:24:29</td>\n",
       "      <td>83</td>\n",
       "      <td>Пятница</td>\n",
       "      <td>19978.966667</td>\n",
       "      <td>вечер</td>\n",
       "    </tr>\n",
       "    <tr>\n",
       "      <th>6</th>\n",
       "      <td>7</td>\n",
       "      <td>2024-10-19</td>\n",
       "      <td>02:25:31</td>\n",
       "      <td>60</td>\n",
       "      <td>Суббота</td>\n",
       "      <td>1.050000</td>\n",
       "      <td>ночь</td>\n",
       "    </tr>\n",
       "    <tr>\n",
       "      <th>7</th>\n",
       "      <td>8</td>\n",
       "      <td>2024-10-19</td>\n",
       "      <td>02:24:28</td>\n",
       "      <td>73</td>\n",
       "      <td>Суббота</td>\n",
       "      <td>0.633333</td>\n",
       "      <td>ночь</td>\n",
       "    </tr>\n",
       "    <tr>\n",
       "      <th>8</th>\n",
       "      <td>9</td>\n",
       "      <td>2024-10-19</td>\n",
       "      <td>02:23:50</td>\n",
       "      <td>105</td>\n",
       "      <td>Суббота</td>\n",
       "      <td>54652.066667</td>\n",
       "      <td>ночь</td>\n",
       "    </tr>\n",
       "    <tr>\n",
       "      <th>9</th>\n",
       "      <td>10</td>\n",
       "      <td>2024-09-11</td>\n",
       "      <td>03:31:46</td>\n",
       "      <td>111</td>\n",
       "      <td>Среда</td>\n",
       "      <td>24625.616667</td>\n",
       "      <td>ночь</td>\n",
       "    </tr>\n",
       "    <tr>\n",
       "      <th>10</th>\n",
       "      <td>11</td>\n",
       "      <td>2024-08-25</td>\n",
       "      <td>01:06:09</td>\n",
       "      <td>61</td>\n",
       "      <td>Воскресенье</td>\n",
       "      <td>0.766667</td>\n",
       "      <td>ночь</td>\n",
       "    </tr>\n",
       "  </tbody>\n",
       "</table>\n",
       "</div>"
      ],
      "text/plain": [
       "    Номер поста        Дата     Время  Лайки  День недели  \\\n",
       "1             2  2025-07-18  02:14:18     79      Пятница   \n",
       "2             3  2025-06-27  19:15:28     57      Пятница   \n",
       "3             4  2025-06-27  19:14:45     48      Пятница   \n",
       "4             5  2025-04-26  03:01:58    106      Суббота   \n",
       "5             6  2024-11-01  23:24:29     83      Пятница   \n",
       "6             7  2024-10-19  02:25:31     60      Суббота   \n",
       "7             8  2024-10-19  02:24:28     73      Суббота   \n",
       "8             9  2024-10-19  02:23:50    105      Суббота   \n",
       "9            10  2024-09-11  03:31:46    111        Среда   \n",
       "10           11  2024-08-25  01:06:09     61  Воскресенье   \n",
       "\n",
       "    Минут с предыдущего Время суток  \n",
       "1          29218.833333        ночь  \n",
       "2              0.716667       вечер  \n",
       "3          90252.783333       вечер  \n",
       "4         252217.483333        ночь  \n",
       "5          19978.966667       вечер  \n",
       "6              1.050000        ночь  \n",
       "7              0.633333        ночь  \n",
       "8          54652.066667        ночь  \n",
       "9          24625.616667        ночь  \n",
       "10             0.766667        ночь  "
      ]
     },
     "execution_count": 52,
     "metadata": {},
     "output_type": "execute_result"
    }
   ],
   "source": [
    "df['Час'] = pd.to_datetime(df['Время'], format='%H:%M:%S').dt.hour\n",
    "\n",
    "def время_суток(час):\n",
    "    if 6 <= час < 12:\n",
    "        return 'утро'\n",
    "    elif 12 <= час < 18:\n",
    "        return 'день'\n",
    "    elif 18 <= час < 24:\n",
    "        return 'вечер'\n",
    "    else:\n",
    "        return 'ночь'\n",
    "\n",
    "df['Время суток'] = df['Час'].apply(время_суток)\n",
    "df = df.drop(columns=[\"Час\"]) #\"Дней с предыдущего\",\"Часов с предыдущего\",\"Дата\",\"Время\"])\n",
    "df.head(10)"
   ]
  },
  {
   "cell_type": "markdown",
   "id": "9168f8d8",
   "metadata": {},
   "source": [
    "## Колонки \"Праздник\" и \"Время года\""
   ]
  },
  {
   "cell_type": "code",
   "execution_count": 53,
   "id": "76bbac85",
   "metadata": {},
   "outputs": [],
   "source": [
    "import holidays\n",
    "import numpy as np"
   ]
  },
  {
   "cell_type": "code",
   "execution_count": 54,
   "id": "6e6bac6c",
   "metadata": {},
   "outputs": [],
   "source": [
    "df['Дата'] = pd.to_datetime(df['Дата'])\n",
    "ru_holidays = holidays.RU(years=df['Дата'].dt.year.unique())\n",
    "\n",
    "def is_holiday_or_weekend(date):\n",
    "    return date in ru_holidays or date.weekday() >= 5  # 5,6 — суббота, воскресенье\n",
    "\n",
    "df['Праздник'] = df['Дата'].apply(is_holiday_or_weekend)\n"
   ]
  },
  {
   "cell_type": "code",
   "execution_count": 55,
   "id": "a4d196a5",
   "metadata": {},
   "outputs": [],
   "source": [
    "def get_season(date):\n",
    "    month = date.month\n",
    "    if month in [12, 1, 2]:\n",
    "        return 'зима'\n",
    "    elif month in [3, 4, 5]:\n",
    "        return 'весна'\n",
    "    elif month in [6, 7, 8]:\n",
    "        return 'лето'\n",
    "    else:\n",
    "        return 'осень'\n",
    "\n",
    "df['Время года'] = df['Дата'].apply(get_season)"
   ]
  },
  {
   "cell_type": "code",
   "execution_count": 56,
   "id": "d251fec7",
   "metadata": {},
   "outputs": [
    {
     "data": {
      "text/plain": [
       "(299, 9)"
      ]
     },
     "execution_count": 56,
     "metadata": {},
     "output_type": "execute_result"
    }
   ],
   "source": [
    "df.head()\n",
    "df.shape"
   ]
  },
  {
   "cell_type": "code",
   "execution_count": 57,
   "id": "8d96556a",
   "metadata": {},
   "outputs": [
    {
     "data": {
      "text/plain": [
       "np.float64(8.0)"
      ]
     },
     "execution_count": 57,
     "metadata": {},
     "output_type": "execute_result"
    }
   ],
   "source": [
    "df['Лайки'].median()"
   ]
  },
  {
   "cell_type": "code",
   "execution_count": 58,
   "id": "3cbc00f2",
   "metadata": {},
   "outputs": [],
   "source": [
    "import seaborn as sns\n",
    "import matplotlib.pyplot as plt"
   ]
  },
  {
   "cell_type": "code",
   "execution_count": 59,
   "id": "6849f264",
   "metadata": {},
   "outputs": [],
   "source": [
    "df_for_train = df.copy()"
   ]
  },
  {
   "cell_type": "markdown",
   "id": "b3abcfc8",
   "metadata": {},
   "source": [
    "## Обучаем лес "
   ]
  },
  {
   "cell_type": "code",
   "execution_count": 60,
   "id": "7726ceb7",
   "metadata": {},
   "outputs": [],
   "source": [
    "from sklearn.ensemble import RandomForestRegressor\n",
    "from sklearn.model_selection import train_test_split\n",
    "from sklearn.preprocessing import OrdinalEncoder, StandardScaler\n",
    "from sklearn.metrics import r2_score, mean_absolute_error\n"
   ]
  },
  {
   "cell_type": "code",
   "execution_count": 61,
   "id": "602c9766",
   "metadata": {},
   "outputs": [
    {
     "name": "stdout",
     "output_type": "stream",
     "text": [
      "R²: 0.080\n",
      "MAE: 20.68 лайков\n"
     ]
    },
    {
     "data": {
      "image/png": "[encoded data removed]",
      "text/plain": [
       "<Figure size 800x600 with 1 Axes>"
      ]
     },
     "metadata": {},
     "output_type": "display_data"
    }
   ],
   "source": [
    "# Удалим пробелы в названиях колонок\n",
    "df.columns = df.columns.str.strip()\n",
    "\n",
    "# Копия исходного датафрейма\n",
    "df_model = df.copy()\n",
    "\n",
    "# Категориальные признаки\n",
    "categorical_cols = ['Время суток', 'Праздник', 'Время года', 'День недели']\n",
    "\n",
    "# Ordinal Encoding\n",
    "encoder = OrdinalEncoder()\n",
    "df_model[categorical_cols] = encoder.fit_transform(df_model[categorical_cols])\n",
    "\n",
    "# Формируем X и y\n",
    "X = df_model.drop(columns=['Номер поста', 'Дата', 'Время', 'Лайки'])\n",
    "y = df_model['Лайки']\n",
    "\n",
    "# Масштабирование (нормализация)\n",
    "scaler = StandardScaler()\n",
    "X_scaled = pd.DataFrame(scaler.fit_transform(X), columns=X.columns)\n",
    "\n",
    "# Train/test split\n",
    "X_train, X_test, y_train, y_test = train_test_split(X_scaled, y, test_size=0.3, random_state=42)\n",
    "\n",
    "# Обучаем модель\n",
    "model = RandomForestRegressor(n_estimators=100, random_state=42)\n",
    "model.fit(X_train, y_train)\n",
    "\n",
    "# Предсказания\n",
    "y_pred = model.predict(X_test)\n",
    "\n",
    "# Метрики\n",
    "r2 = r2_score(y_test, y_pred)\n",
    "mae = mean_absolute_error(y_test, y_pred)\n",
    "\n",
    "print(f'R²: {r2:.3f}')\n",
    "print(f'MAE: {mae:.2f} лайков')\n",
    "\n",
    "# Важности признаков\n",
    "importances = pd.Series(model.feature_importances_, index=X.columns).sort_values()\n",
    "\n",
    "# График\n",
    "plt.figure(figsize=(8, 6))\n",
    "importances.plot(kind='barh')\n",
    "plt.title('Важность признаков (Ordinal Encoding + Нормализация)')\n",
    "plt.xlabel('Вклад в модель')\n",
    "plt.tight_layout()\n",
    "plt.show()\n"
   ]
  },
  {
   "cell_type": "code",
   "execution_count": null,
   "id": "c3ac5f7d",
   "metadata": {},
   "outputs": [],
   "source": []
  }
 ],
 "metadata": {
  "kernelspec": {
   "display_name": ".venv (3.12.2)",
   "language": "python",
   "name": "python3"
  },
  "language_info": {
   "codemirror_mode": {
    "name": "ipython",
    "version": 3
   },
   "file_extension": ".py",
   "mimetype": "text/x-python",
   "name": "python",
   "nbconvert_exporter": "python",
   "pygments_lexer": "ipython3",
   "version": "3.12.2"
  }
 },
 "nbformat": 4,
 "nbformat_minor": 5
}
