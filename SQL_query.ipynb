{
 "cells": [
  {
   "cell_type": "code",
   "execution_count": null,
   "id": "3c1a88d2",
   "metadata": {},
   "outputs": [],
   "source": [
    "import vk_api\n",
    "import time\n",
    "import pandas as pd\n",
    "import sqlite3\n",
    "from datetime import datetime\n",
    "from config import token \n",
    "\n",
    "# Создаем подключение\n",
    "session = vk_api.VkApi(token)\n",
    "conn = sqlite3.connect('vk_posts.db')"
   ]
  },
  {
   "cell_type": "code",
   "execution_count": null,
   "id": "0681a32e",
   "metadata": {},
   "outputs": [],
   "source": [
    "USER_ID = 'erglerik'    # screen_name или owner_id\n",
    "\n",
    "#ссылка = \"https://vk.com/erglerik\"\n",
    "\n",
    "MAX_POSTS = 300\n",
    "BATCH_SIZE = 50\n",
    "\n",
    "\n",
    "vk_session = vk_api.VkApi(token=token)\n",
    "vk = vk_session.get_api()\n",
    "\n",
    "all_posts = []\n",
    "offset = 0"
   ]
  },
  {
   "cell_type": "code",
   "execution_count": 70,
   "id": "037c39c5",
   "metadata": {},
   "outputs": [],
   "source": [
    "while len(all_posts) < MAX_POSTS:\n",
    "    count = min(BATCH_SIZE, MAX_POSTS - len(all_posts))\n",
    "\n",
    "    response = vk.wall.get(\n",
    "        owner_id=USER_ID,\n",
    "        count=count,\n",
    "        offset=offset,\n",
    "        extended=0\n",
    "    )\n",
    "\n",
    "    items = response.get('items', [])\n",
    "    if not items:\n",
    "        break\n",
    "\n",
    "    all_posts.extend(items)\n",
    "    offset += count\n",
    "\n",
    "    time.sleep(0.4)  # Не перегружаем API\n",
    "\n",
    "# --- Обработка данных ---\n",
    "posts_data = []\n",
    "\n",
    "for i, post in enumerate(all_posts, 1):\n",
    "    post_datetime = datetime.fromtimestamp(post['date'])\n",
    "    likes = post.get('likes', {}).get('count', 0)\n",
    "\n",
    "    posts_data.append({\n",
    "        'Номер поста': i,\n",
    "        'Дата': post_datetime.date(),\n",
    "        'Время': post_datetime.time(),\n",
    "        'Лайки': likes,\n",
    "    })\n",
    "\n",
    "# Создаем DataFrame\n",
    "df = pd.DataFrame(posts_data)\n",
    "\n",
    "df = df.drop(df.index[0])\n",
    "\n"
   ]
  },
  {
   "cell_type": "code",
   "execution_count": 71,
   "id": "e6a584cc",
   "metadata": {},
   "outputs": [
    {
     "data": {
      "application/vnd.microsoft.datawrangler.viewer.v0+json": {
       "columns": [
        {
         "name": "index",
         "rawType": "int64",
         "type": "integer"
        },
        {
         "name": "PostNumber",
         "rawType": "int64",
         "type": "integer"
        },
        {
         "name": "Date",
         "rawType": "object",
         "type": "unknown"
        },
        {
         "name": "Time",
         "rawType": "object",
         "type": "unknown"
        },
        {
         "name": "Likes",
         "rawType": "int64",
         "type": "integer"
        }
       ],
       "ref": "47440e47-cb8b-41b4-b1e2-f43627d2db16",
       "rows": [
        [
         "1",
         "2",
         "2025-07-18",
         "02:14:18",
         "79"
        ],
        [
         "2",
         "3",
         "2025-06-27",
         "19:15:28",
         "57"
        ],
        [
         "3",
         "4",
         "2025-06-27",
         "19:14:45",
         "48"
        ],
        [
         "4",
         "5",
         "2025-04-26",
         "03:01:58",
         "106"
        ],
        [
         "5",
         "6",
         "2024-11-01",
         "23:24:29",
         "83"
        ],
        [
         "6",
         "7",
         "2024-10-19",
         "02:25:31",
         "60"
        ],
        [
         "7",
         "8",
         "2024-10-19",
         "02:24:28",
         "73"
        ],
        [
         "8",
         "9",
         "2024-10-19",
         "02:23:50",
         "105"
        ],
        [
         "9",
         "10",
         "2024-09-11",
         "03:31:46",
         "111"
        ],
        [
         "10",
         "11",
         "2024-08-25",
         "01:06:09",
         "61"
        ]
       ],
       "shape": {
        "columns": 4,
        "rows": 10
       }
      },
      "text/html": [
       "<div>\n",
       "<style scoped>\n",
       "    .dataframe tbody tr th:only-of-type {\n",
       "        vertical-align: middle;\n",
       "    }\n",
       "\n",
       "    .dataframe tbody tr th {\n",
       "        vertical-align: top;\n",
       "    }\n",
       "\n",
       "    .dataframe thead th {\n",
       "        text-align: right;\n",
       "    }\n",
       "</style>\n",
       "<table border=\"1\" class=\"dataframe\">\n",
       "  <thead>\n",
       "    <tr style=\"text-align: right;\">\n",
       "      <th></th>\n",
       "      <th>PostNumber</th>\n",
       "      <th>Date</th>\n",
       "      <th>Time</th>\n",
       "      <th>Likes</th>\n",
       "    </tr>\n",
       "  </thead>\n",
       "  <tbody>\n",
       "    <tr>\n",
       "      <th>1</th>\n",
       "      <td>2</td>\n",
       "      <td>2025-07-18</td>\n",
       "      <td>02:14:18</td>\n",
       "      <td>79</td>\n",
       "    </tr>\n",
       "    <tr>\n",
       "      <th>2</th>\n",
       "      <td>3</td>\n",
       "      <td>2025-06-27</td>\n",
       "      <td>19:15:28</td>\n",
       "      <td>57</td>\n",
       "    </tr>\n",
       "    <tr>\n",
       "      <th>3</th>\n",
       "      <td>4</td>\n",
       "      <td>2025-06-27</td>\n",
       "      <td>19:14:45</td>\n",
       "      <td>48</td>\n",
       "    </tr>\n",
       "    <tr>\n",
       "      <th>4</th>\n",
       "      <td>5</td>\n",
       "      <td>2025-04-26</td>\n",
       "      <td>03:01:58</td>\n",
       "      <td>106</td>\n",
       "    </tr>\n",
       "    <tr>\n",
       "      <th>5</th>\n",
       "      <td>6</td>\n",
       "      <td>2024-11-01</td>\n",
       "      <td>23:24:29</td>\n",
       "      <td>83</td>\n",
       "    </tr>\n",
       "    <tr>\n",
       "      <th>6</th>\n",
       "      <td>7</td>\n",
       "      <td>2024-10-19</td>\n",
       "      <td>02:25:31</td>\n",
       "      <td>60</td>\n",
       "    </tr>\n",
       "    <tr>\n",
       "      <th>7</th>\n",
       "      <td>8</td>\n",
       "      <td>2024-10-19</td>\n",
       "      <td>02:24:28</td>\n",
       "      <td>73</td>\n",
       "    </tr>\n",
       "    <tr>\n",
       "      <th>8</th>\n",
       "      <td>9</td>\n",
       "      <td>2024-10-19</td>\n",
       "      <td>02:23:50</td>\n",
       "      <td>105</td>\n",
       "    </tr>\n",
       "    <tr>\n",
       "      <th>9</th>\n",
       "      <td>10</td>\n",
       "      <td>2024-09-11</td>\n",
       "      <td>03:31:46</td>\n",
       "      <td>111</td>\n",
       "    </tr>\n",
       "    <tr>\n",
       "      <th>10</th>\n",
       "      <td>11</td>\n",
       "      <td>2024-08-25</td>\n",
       "      <td>01:06:09</td>\n",
       "      <td>61</td>\n",
       "    </tr>\n",
       "  </tbody>\n",
       "</table>\n",
       "</div>"
      ],
      "text/plain": [
       "    PostNumber        Date      Time  Likes\n",
       "1            2  2025-07-18  02:14:18     79\n",
       "2            3  2025-06-27  19:15:28     57\n",
       "3            4  2025-06-27  19:14:45     48\n",
       "4            5  2025-04-26  03:01:58    106\n",
       "5            6  2024-11-01  23:24:29     83\n",
       "6            7  2024-10-19  02:25:31     60\n",
       "7            8  2024-10-19  02:24:28     73\n",
       "8            9  2024-10-19  02:23:50    105\n",
       "9           10  2024-09-11  03:31:46    111\n",
       "10          11  2024-08-25  01:06:09     61"
      ]
     },
     "execution_count": 71,
     "metadata": {},
     "output_type": "execute_result"
    }
   ],
   "source": [
    "df.columns = ['PostNumber', 'Date', 'Time', 'Likes']\n",
    "df.to_sql('posts', conn, if_exists='replace', index=False)\n",
    "df.head(10)"
   ]
  },
  {
   "cell_type": "code",
   "execution_count": null,
   "id": "06e81f11",
   "metadata": {},
   "outputs": [
    {
     "data": {
      "application/vnd.microsoft.datawrangler.viewer.v0+json": {
       "columns": [
        {
         "name": "index",
         "rawType": "int64",
         "type": "integer"
        },
        {
         "name": "weekday",
         "rawType": "object",
         "type": "string"
        },
        {
         "name": "median_likes",
         "rawType": "float64",
         "type": "float"
        }
       ],
       "ref": "3e09c01e-89b0-4983-9f8b-7a43d05d98b7",
       "rows": [
        [
         "0",
         "Thursday",
         "23.0"
        ],
        [
         "1",
         "Sunday",
         "13.0"
        ],
        [
         "2",
         "Monday",
         "12.0"
        ],
        [
         "3",
         "Tuesday",
         "11.0"
        ],
        [
         "4",
         "Saturday",
         "3.0"
        ],
        [
         "5",
         "Friday",
         "2.5"
        ],
        [
         "6",
         "Wednesday",
         "1.0"
        ]
       ],
       "shape": {
        "columns": 2,
        "rows": 7
       }
      },
      "text/html": [
       "<div>\n",
       "<style scoped>\n",
       "    .dataframe tbody tr th:only-of-type {\n",
       "        vertical-align: middle;\n",
       "    }\n",
       "\n",
       "    .dataframe tbody tr th {\n",
       "        vertical-align: top;\n",
       "    }\n",
       "\n",
       "    .dataframe thead th {\n",
       "        text-align: right;\n",
       "    }\n",
       "</style>\n",
       "<table border=\"1\" class=\"dataframe\">\n",
       "  <thead>\n",
       "    <tr style=\"text-align: right;\">\n",
       "      <th></th>\n",
       "      <th>weekday</th>\n",
       "      <th>median_likes</th>\n",
       "    </tr>\n",
       "  </thead>\n",
       "  <tbody>\n",
       "    <tr>\n",
       "      <th>0</th>\n",
       "      <td>Thursday</td>\n",
       "      <td>23.0</td>\n",
       "    </tr>\n",
       "    <tr>\n",
       "      <th>1</th>\n",
       "      <td>Sunday</td>\n",
       "      <td>13.0</td>\n",
       "    </tr>\n",
       "    <tr>\n",
       "      <th>2</th>\n",
       "      <td>Monday</td>\n",
       "      <td>12.0</td>\n",
       "    </tr>\n",
       "    <tr>\n",
       "      <th>3</th>\n",
       "      <td>Tuesday</td>\n",
       "      <td>11.0</td>\n",
       "    </tr>\n",
       "    <tr>\n",
       "      <th>4</th>\n",
       "      <td>Saturday</td>\n",
       "      <td>3.0</td>\n",
       "    </tr>\n",
       "    <tr>\n",
       "      <th>5</th>\n",
       "      <td>Friday</td>\n",
       "      <td>2.5</td>\n",
       "    </tr>\n",
       "    <tr>\n",
       "      <th>6</th>\n",
       "      <td>Wednesday</td>\n",
       "      <td>1.0</td>\n",
       "    </tr>\n",
       "  </tbody>\n",
       "</table>\n",
       "</div>"
      ],
      "text/plain": [
       "     weekday  median_likes\n",
       "0   Thursday          23.0\n",
       "1     Sunday          13.0\n",
       "2     Monday          12.0\n",
       "3    Tuesday          11.0\n",
       "4   Saturday           3.0\n",
       "5     Friday           2.5\n",
       "6  Wednesday           1.0"
      ]
     },
     "execution_count": 81,
     "metadata": {},
     "output_type": "execute_result"
    }
   ],
   "source": [
    "query_1 = \"\"\"\n",
    "WITH posts_with_weekday AS (\n",
    "    SELECT\n",
    "        *,\n",
    "        CASE strftime('%w', Date)\n",
    "            WHEN '0' THEN 'Sunday'\n",
    "            WHEN '1' THEN 'Monday'\n",
    "            WHEN '2' THEN 'Tuesday'\n",
    "            WHEN '3' THEN 'Wednesday'\n",
    "            WHEN '4' THEN 'Thursday'\n",
    "            WHEN '5' THEN 'Friday'\n",
    "            WHEN '6' THEN 'Saturday'\n",
    "        END AS weekday\n",
    "    FROM posts\n",
    "),\n",
    "ranked_posts AS (\n",
    "    SELECT\n",
    "        weekday,\n",
    "        Likes,\n",
    "        ROW_NUMBER() OVER (PARTITION BY weekday ORDER BY Likes) AS rn,\n",
    "        COUNT(*) OVER (PARTITION BY weekday) AS cnt\n",
    "    FROM posts_with_weekday\n",
    "),\n",
    "median_likes AS (\n",
    "    SELECT\n",
    "        weekday,\n",
    "        AVG(Likes) AS median_likes\n",
    "    FROM ranked_posts\n",
    "    WHERE rn = (cnt + 1) / 2\n",
    "       OR rn = (cnt + 2) / 2\n",
    "    GROUP BY weekday\n",
    ")\n",
    "SELECT * FROM median_likes\n",
    "ORDER BY median_likes DESC;\n",
    "\n",
    "\"\"\"\n",
    "\n",
    "result_df_1 = pd.read_sql_query(query_1, conn)\n",
    "result_df_1.head(10)\n",
    "\n"
   ]
  },
  {
   "cell_type": "code",
   "execution_count": 82,
   "id": "51da5cf5",
   "metadata": {},
   "outputs": [],
   "source": [
    "result_df_1.to_csv('res_sql_week_days.csv')"
   ]
  },
  {
   "cell_type": "code",
   "execution_count": 73,
   "id": "e38a6845",
   "metadata": {},
   "outputs": [
    {
     "data": {
      "application/vnd.microsoft.datawrangler.viewer.v0+json": {
       "columns": [
        {
         "name": "index",
         "rawType": "int64",
         "type": "integer"
        },
        {
         "name": "period",
         "rawType": "object",
         "type": "string"
        },
        {
         "name": "median_likes",
         "rawType": "float64",
         "type": "float"
        }
       ],
       "ref": "30b7830b-32d6-47b5-9bcc-99423d02b4eb",
       "rows": [
        [
         "0",
         "Night",
         "55.0"
        ],
        [
         "1",
         "Evening",
         "11.0"
        ],
        [
         "2",
         "Afternoon",
         "5.5"
        ],
        [
         "3",
         "Morning",
         "0.0"
        ]
       ],
       "shape": {
        "columns": 2,
        "rows": 4
       }
      },
      "text/html": [
       "<div>\n",
       "<style scoped>\n",
       "    .dataframe tbody tr th:only-of-type {\n",
       "        vertical-align: middle;\n",
       "    }\n",
       "\n",
       "    .dataframe tbody tr th {\n",
       "        vertical-align: top;\n",
       "    }\n",
       "\n",
       "    .dataframe thead th {\n",
       "        text-align: right;\n",
       "    }\n",
       "</style>\n",
       "<table border=\"1\" class=\"dataframe\">\n",
       "  <thead>\n",
       "    <tr style=\"text-align: right;\">\n",
       "      <th></th>\n",
       "      <th>period</th>\n",
       "      <th>median_likes</th>\n",
       "    </tr>\n",
       "  </thead>\n",
       "  <tbody>\n",
       "    <tr>\n",
       "      <th>0</th>\n",
       "      <td>Night</td>\n",
       "      <td>55.0</td>\n",
       "    </tr>\n",
       "    <tr>\n",
       "      <th>1</th>\n",
       "      <td>Evening</td>\n",
       "      <td>11.0</td>\n",
       "    </tr>\n",
       "    <tr>\n",
       "      <th>2</th>\n",
       "      <td>Afternoon</td>\n",
       "      <td>5.5</td>\n",
       "    </tr>\n",
       "    <tr>\n",
       "      <th>3</th>\n",
       "      <td>Morning</td>\n",
       "      <td>0.0</td>\n",
       "    </tr>\n",
       "  </tbody>\n",
       "</table>\n",
       "</div>"
      ],
      "text/plain": [
       "      period  median_likes\n",
       "0      Night          55.0\n",
       "1    Evening          11.0\n",
       "2  Afternoon           5.5\n",
       "3    Morning           0.0"
      ]
     },
     "execution_count": 73,
     "metadata": {},
     "output_type": "execute_result"
    }
   ],
   "source": [
    "query_2 = \"\"\"\n",
    "WITH posts_with_period AS (\n",
    "    SELECT\n",
    "        *,\n",
    "        CASE \n",
    "            WHEN CAST(strftime('%H', Time) AS INTEGER) BETWEEN 0 AND 5 THEN 'Night'\n",
    "            WHEN CAST(strftime('%H', Time) AS INTEGER) BETWEEN 6 AND 11 THEN 'Morning'\n",
    "            WHEN CAST(strftime('%H', Time) AS INTEGER) BETWEEN 12 AND 17 THEN 'Afternoon'\n",
    "            WHEN CAST(strftime('%H', Time) AS INTEGER) BETWEEN 18 AND 23 THEN 'Evening'\n",
    "        END AS period\n",
    "    FROM posts\n",
    "),\n",
    "ranked_posts AS (\n",
    "    SELECT\n",
    "        period,\n",
    "        Likes,\n",
    "        ROW_NUMBER() OVER (PARTITION BY period ORDER BY Likes) AS rn,\n",
    "        COUNT(*) OVER (PARTITION BY period) AS cnt\n",
    "    FROM posts_with_period\n",
    "),\n",
    "median_likes AS (\n",
    "    SELECT\n",
    "        period,\n",
    "        ROUND(AVG(Likes), 2) AS median_likes\n",
    "    FROM ranked_posts\n",
    "    WHERE rn = (cnt + 1) / 2\n",
    "       OR rn = (cnt + 2) / 2  -- обрабатываем и чётное, и нечётное количество постов\n",
    "    GROUP BY period\n",
    ")\n",
    "SELECT * FROM median_likes\n",
    "ORDER BY median_likes DESC;\n",
    "\"\"\"\n",
    "\n",
    "result_df_2 = pd.read_sql_query(query_2, conn)\n",
    "result_df_2.head(10)\n"
   ]
  },
  {
   "cell_type": "code",
   "execution_count": 83,
   "id": "d7d83e8e",
   "metadata": {},
   "outputs": [],
   "source": [
    "result_df_2.to_csv('res_sql_day_period.csv')"
   ]
  },
  {
   "cell_type": "code",
   "execution_count": 74,
   "id": "c30771d4",
   "metadata": {},
   "outputs": [],
   "source": [
    "import matplotlib.pyplot as plt"
   ]
  },
  {
   "cell_type": "code",
   "execution_count": 75,
   "id": "f9db1138",
   "metadata": {},
   "outputs": [
    {
     "data": {
      "image/png": "[encoded data removed]",
      "text/plain": [
       "<Figure size 640x480 with 1 Axes>"
      ]
     },
     "metadata": {},
     "output_type": "display_data"
    }
   ],
   "source": [
    "# 1. Создадим колонку с полным datetime\n",
    "df['DateTime'] = pd.to_datetime(df['Date'].astype(str) + ' ' + df['Time'].astype(str))\n",
    "\n",
    "# 2. Отсортируем по времени постов\n",
    "df = df.sort_values('DateTime').reset_index(drop=True)\n",
    "\n",
    "# 3. Рассчитаем разницу во времени с предыдущим постом в секундах\n",
    "df['diff_seconds'] = df['DateTime'].diff().dt.total_seconds()\n",
    "\n",
    "# 4. Переведём разницу в часы\n",
    "df['diff_hours'] = df['diff_seconds'] / 3600\n",
    "\n",
    "# 5. Уберём NaN в первой строке (у первого поста нет предыдущего)\n",
    "diff_hours = df['diff_hours'].dropna()\n",
    "\n",
    "# Переводим часы в минуты\n",
    "diff_minutes = diff_hours * 60\n",
    "\n",
    "# Убираем нули и отрицательные значения (если есть)\n",
    "diff_minutes_positive = diff_minutes[diff_minutes > 0]\n",
    "\n",
    "plt.hist(diff_minutes_positive, bins=1000, edgecolor='black')\n",
    "plt.xscale('log')  # логарифмическая шкала по оси X\n",
    "plt.xlabel('Minutes between posts (log scale)')\n",
    "plt.ylabel('Count')\n",
    "plt.title('Distribution of time intervals between posts (log scale)')\n",
    "plt.show()"
   ]
  },
  {
   "cell_type": "code",
   "execution_count": 77,
   "id": "8a39769a",
   "metadata": {},
   "outputs": [
    {
     "name": "stderr",
     "output_type": "stream",
     "text": [
      "C:\\Users\\galki\\AppData\\Local\\Temp\\ipykernel_13660\\2661919086.py:16: FutureWarning: The default of observed=False is deprecated and will be changed to True in a future version of pandas. Pass observed=False to retain current behavior or observed=True to adopt the future default and silence this warning.\n",
      "  bin_stats = df.groupby('interval_bin')['Likes'].agg(['count', 'median', 'mean']).reset_index()\n"
     ]
    },
    {
     "data": {
      "application/vnd.microsoft.datawrangler.viewer.v0+json": {
       "columns": [
        {
         "name": "index",
         "rawType": "int64",
         "type": "integer"
        },
        {
         "name": "interval_bin",
         "rawType": "category",
         "type": "unknown"
        },
        {
         "name": "count",
         "rawType": "int64",
         "type": "integer"
        },
        {
         "name": "median",
         "rawType": "float64",
         "type": "float"
        },
        {
         "name": "mean",
         "rawType": "float64",
         "type": "float"
        }
       ],
       "ref": "7eacfe71-fc39-4343-a7db-f136b6759448",
       "rows": [
        [
         "0",
         "(0.149, 64.928]",
         "50",
         "4.0",
         "17.72"
        ],
        [
         "1",
         "(64.928, 1730.294]",
         "49",
         "2.0",
         "8.63265306122449"
        ],
        [
         "2",
         "(1730.294, 6207.933]",
         "50",
         "2.0",
         "14.88"
        ],
        [
         "3",
         "(6207.933, 11512.867]",
         "49",
         "8.0",
         "22.346938775510203"
        ],
        [
         "4",
         "(11512.867, 28726.672]",
         "49",
         "11.0",
         "25.20408163265306"
        ],
        [
         "5",
         "(28726.672, 364676.717]",
         "50",
         "50.5",
         "50.32"
        ]
       ],
       "shape": {
        "columns": 4,
        "rows": 6
       }
      },
      "text/html": [
       "<div>\n",
       "<style scoped>\n",
       "    .dataframe tbody tr th:only-of-type {\n",
       "        vertical-align: middle;\n",
       "    }\n",
       "\n",
       "    .dataframe tbody tr th {\n",
       "        vertical-align: top;\n",
       "    }\n",
       "\n",
       "    .dataframe thead th {\n",
       "        text-align: right;\n",
       "    }\n",
       "</style>\n",
       "<table border=\"1\" class=\"dataframe\">\n",
       "  <thead>\n",
       "    <tr style=\"text-align: right;\">\n",
       "      <th></th>\n",
       "      <th>interval_bin</th>\n",
       "      <th>count</th>\n",
       "      <th>median</th>\n",
       "      <th>mean</th>\n",
       "    </tr>\n",
       "  </thead>\n",
       "  <tbody>\n",
       "    <tr>\n",
       "      <th>0</th>\n",
       "      <td>(0.149, 64.928]</td>\n",
       "      <td>50</td>\n",
       "      <td>4.0</td>\n",
       "      <td>17.720000</td>\n",
       "    </tr>\n",
       "    <tr>\n",
       "      <th>1</th>\n",
       "      <td>(64.928, 1730.294]</td>\n",
       "      <td>49</td>\n",
       "      <td>2.0</td>\n",
       "      <td>8.632653</td>\n",
       "    </tr>\n",
       "    <tr>\n",
       "      <th>2</th>\n",
       "      <td>(1730.294, 6207.933]</td>\n",
       "      <td>50</td>\n",
       "      <td>2.0</td>\n",
       "      <td>14.880000</td>\n",
       "    </tr>\n",
       "    <tr>\n",
       "      <th>3</th>\n",
       "      <td>(6207.933, 11512.867]</td>\n",
       "      <td>49</td>\n",
       "      <td>8.0</td>\n",
       "      <td>22.346939</td>\n",
       "    </tr>\n",
       "    <tr>\n",
       "      <th>4</th>\n",
       "      <td>(11512.867, 28726.672]</td>\n",
       "      <td>49</td>\n",
       "      <td>11.0</td>\n",
       "      <td>25.204082</td>\n",
       "    </tr>\n",
       "    <tr>\n",
       "      <th>5</th>\n",
       "      <td>(28726.672, 364676.717]</td>\n",
       "      <td>50</td>\n",
       "      <td>50.5</td>\n",
       "      <td>50.320000</td>\n",
       "    </tr>\n",
       "  </tbody>\n",
       "</table>\n",
       "</div>"
      ],
      "text/plain": [
       "              interval_bin  count  median       mean\n",
       "0          (0.149, 64.928]     50     4.0  17.720000\n",
       "1       (64.928, 1730.294]     49     2.0   8.632653\n",
       "2     (1730.294, 6207.933]     50     2.0  14.880000\n",
       "3    (6207.933, 11512.867]     49     8.0  22.346939\n",
       "4   (11512.867, 28726.672]     49    11.0  25.204082\n",
       "5  (28726.672, 364676.717]     50    50.5  50.320000"
      ]
     },
     "execution_count": 77,
     "metadata": {},
     "output_type": "execute_result"
    }
   ],
   "source": [
    "df['DateTime'] = pd.to_datetime(df['Date'].astype(str) + ' ' + df['Time'].astype(str))\n",
    "\n",
    "# Сортируем по времени\n",
    "df = df.sort_values('DateTime').reset_index(drop=True)\n",
    "\n",
    "# Считаем разницу во времени между постами в минутах\n",
    "df['diff_minutes'] = df['DateTime'].diff().dt.total_seconds() / 60\n",
    "\n",
    "# Удаляем первую строку с NaN\n",
    "df = df.dropna(subset=['diff_minutes'])\n",
    "\n",
    "# Разбиваем на 6 квантильных бинов с равным количеством постов\n",
    "df['interval_bin'] = pd.qcut(df['diff_minutes'], q=6, duplicates='drop')\n",
    "\n",
    "# Считаем медиану лайков в каждом бине\n",
    "bin_stats = df.groupby('interval_bin')['Likes'].agg(['count', 'median', 'mean']).reset_index()\n",
    "\n",
    "bin_stats.head(10)"
   ]
  },
  {
   "cell_type": "code",
   "execution_count": 79,
   "id": "dcfc8360",
   "metadata": {},
   "outputs": [
    {
     "data": {
      "application/vnd.microsoft.datawrangler.viewer.v0+json": {
       "columns": [
        {
         "name": "index",
         "rawType": "int64",
         "type": "integer"
        },
        {
         "name": "diff_bin",
         "rawType": "object",
         "type": "string"
        },
        {
         "name": "mean_likes",
         "rawType": "float64",
         "type": "float"
        },
        {
         "name": "median_likes",
         "rawType": "float64",
         "type": "float"
        },
        {
         "name": "posts_count",
         "rawType": "int64",
         "type": "integer"
        }
       ],
       "ref": "bbe7fbbd-48dd-4f42-95cb-df42dfb38359",
       "rows": [
        [
         "0",
         "0–65 min",
         "17.72",
         "4.0",
         "50"
        ],
        [
         "1",
         "65 min – 28 h",
         "8.48",
         "1.5",
         "50"
        ],
        [
         "2",
         "28 h – 4.3 d",
         "14.92",
         "2.0",
         "50"
        ],
        [
         "3",
         "4.3 d – 8 d",
         "22.35",
         "8.0",
         "49"
        ],
        [
         "4",
         "8 d – 20 d",
         "25.2",
         "11.0",
         "49"
        ],
        [
         "5",
         "> 20 d",
         "50.32",
         "50.5",
         "50"
        ]
       ],
       "shape": {
        "columns": 4,
        "rows": 6
       }
      },
      "text/html": [
       "<div>\n",
       "<style scoped>\n",
       "    .dataframe tbody tr th:only-of-type {\n",
       "        vertical-align: middle;\n",
       "    }\n",
       "\n",
       "    .dataframe tbody tr th {\n",
       "        vertical-align: top;\n",
       "    }\n",
       "\n",
       "    .dataframe thead th {\n",
       "        text-align: right;\n",
       "    }\n",
       "</style>\n",
       "<table border=\"1\" class=\"dataframe\">\n",
       "  <thead>\n",
       "    <tr style=\"text-align: right;\">\n",
       "      <th></th>\n",
       "      <th>diff_bin</th>\n",
       "      <th>mean_likes</th>\n",
       "      <th>median_likes</th>\n",
       "      <th>posts_count</th>\n",
       "    </tr>\n",
       "  </thead>\n",
       "  <tbody>\n",
       "    <tr>\n",
       "      <th>0</th>\n",
       "      <td>0–65 min</td>\n",
       "      <td>17.72</td>\n",
       "      <td>4.0</td>\n",
       "      <td>50</td>\n",
       "    </tr>\n",
       "    <tr>\n",
       "      <th>1</th>\n",
       "      <td>65 min – 28 h</td>\n",
       "      <td>8.48</td>\n",
       "      <td>1.5</td>\n",
       "      <td>50</td>\n",
       "    </tr>\n",
       "    <tr>\n",
       "      <th>2</th>\n",
       "      <td>28 h – 4.3 d</td>\n",
       "      <td>14.92</td>\n",
       "      <td>2.0</td>\n",
       "      <td>50</td>\n",
       "    </tr>\n",
       "    <tr>\n",
       "      <th>3</th>\n",
       "      <td>4.3 d – 8 d</td>\n",
       "      <td>22.35</td>\n",
       "      <td>8.0</td>\n",
       "      <td>49</td>\n",
       "    </tr>\n",
       "    <tr>\n",
       "      <th>4</th>\n",
       "      <td>8 d – 20 d</td>\n",
       "      <td>25.20</td>\n",
       "      <td>11.0</td>\n",
       "      <td>49</td>\n",
       "    </tr>\n",
       "    <tr>\n",
       "      <th>5</th>\n",
       "      <td>&gt; 20 d</td>\n",
       "      <td>50.32</td>\n",
       "      <td>50.5</td>\n",
       "      <td>50</td>\n",
       "    </tr>\n",
       "  </tbody>\n",
       "</table>\n",
       "</div>"
      ],
      "text/plain": [
       "        diff_bin  mean_likes  median_likes  posts_count\n",
       "0       0–65 min       17.72           4.0           50\n",
       "1  65 min – 28 h        8.48           1.5           50\n",
       "2   28 h – 4.3 d       14.92           2.0           50\n",
       "3    4.3 d – 8 d       22.35           8.0           49\n",
       "4     8 d – 20 d       25.20          11.0           49\n",
       "5         > 20 d       50.32          50.5           50"
      ]
     },
     "execution_count": 79,
     "metadata": {},
     "output_type": "execute_result"
    }
   ],
   "source": [
    "query_3 = \"\"\"\n",
    "WITH posts_with_datetime AS (\n",
    "    SELECT\n",
    "        PostNumber,\n",
    "        Likes,\n",
    "        datetime(Date || ' ' || Time) AS post_datetime\n",
    "    FROM posts\n",
    "),\n",
    "posts_with_lag AS (\n",
    "    SELECT\n",
    "        PostNumber,\n",
    "        Likes,\n",
    "        post_datetime,\n",
    "        LAG(post_datetime) OVER (ORDER BY post_datetime) AS prev_datetime\n",
    "    FROM posts_with_datetime\n",
    "),\n",
    "posts_with_diff AS (\n",
    "    SELECT\n",
    "        PostNumber,\n",
    "        Likes,\n",
    "        post_datetime,\n",
    "        prev_datetime,\n",
    "        CAST((strftime('%s', post_datetime) - strftime('%s', prev_datetime)) / 60 AS REAL) AS diff_minutes\n",
    "    FROM posts_with_lag\n",
    "),\n",
    "posts_binned AS (\n",
    "    SELECT\n",
    "        PostNumber,\n",
    "        Likes,\n",
    "        diff_minutes,\n",
    "        CASE\n",
    "            WHEN diff_minutes <= 64.928 THEN '0–65 min'\n",
    "            WHEN diff_minutes <= 1730.294 THEN '65 min – 28 h'\n",
    "            WHEN diff_minutes <= 6207.933 THEN '28 h – 4.3 d'\n",
    "            WHEN diff_minutes <= 11512.867 THEN '4.3 d – 8 d'\n",
    "            WHEN diff_minutes <= 28726.672 THEN '8 d – 20 d'\n",
    "            ELSE '> 20 d'\n",
    "        END AS diff_bin\n",
    "    FROM posts_with_diff\n",
    "    WHERE diff_minutes IS NOT NULL\n",
    "),\n",
    "ranked_posts AS (\n",
    "    SELECT\n",
    "        diff_bin,\n",
    "        Likes,\n",
    "        ROW_NUMBER() OVER (PARTITION BY diff_bin ORDER BY Likes) AS rn,\n",
    "        COUNT(*) OVER (PARTITION BY diff_bin) AS cnt\n",
    "    FROM posts_binned\n",
    ")\n",
    "SELECT\n",
    "    diff_bin,\n",
    "    ROUND(AVG(Likes), 2) AS mean_likes,\n",
    "    ROUND(AVG(CASE\n",
    "        WHEN rn = (cnt + 1) / 2 OR rn = (cnt + 2) / 2 THEN Likes\n",
    "    END), 2) AS median_likes,\n",
    "    COUNT(*) AS posts_count\n",
    "FROM ranked_posts\n",
    "GROUP BY diff_bin\n",
    "ORDER BY\n",
    "    CASE diff_bin\n",
    "        WHEN '0–65 min' THEN 1\n",
    "        WHEN '65 min – 28 h' THEN 2\n",
    "        WHEN '28 h – 4.3 d' THEN 3\n",
    "        WHEN '4.3 d – 8 d' THEN 4\n",
    "        WHEN '8 d – 20 d' THEN 5\n",
    "        WHEN '> 20 d' THEN 6\n",
    "    END;\n",
    "\"\"\"\n",
    "\n",
    "result_df_3 = pd.read_sql_query(query_3, conn)\n",
    "result_df_3.head(10)\n"
   ]
  },
  {
   "cell_type": "code",
   "execution_count": 84,
   "id": "141fbdb8",
   "metadata": {},
   "outputs": [],
   "source": [
    "result_df_3.to_csv('res_sql_posts_time_interval.csv')"
   ]
  }
 ],
 "metadata": {
  "kernelspec": {
   "display_name": ".venv (3.12.2)",
   "language": "python",
   "name": "python3"
  },
  "language_info": {
   "codemirror_mode": {
    "name": "ipython",
    "version": 3
   },
   "file_extension": ".py",
   "mimetype": "text/x-python",
   "name": "python",
   "nbconvert_exporter": "python",
   "pygments_lexer": "ipython3",
   "version": "3.12.2"
  }
 },
 "nbformat": 4,
 "nbformat_minor": 5
}
